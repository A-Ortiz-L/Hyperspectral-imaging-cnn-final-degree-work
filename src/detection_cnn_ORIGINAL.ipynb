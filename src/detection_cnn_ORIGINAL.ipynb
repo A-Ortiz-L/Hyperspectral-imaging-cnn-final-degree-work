{
  "nbformat": 4,
  "nbformat_minor": 0,
  "metadata": {
    "colab": {
      "name": "detection_cnn.ipynb",
      "version": "0.3.2",
      "provenance": [],
      "collapsed_sections": []
    },
    "kernelspec": {
      "name": "python3",
      "display_name": "Python 3"
    },
    "accelerator": "GPU"
  },
  "cells": [
    {
      "cell_type": "code",
      "metadata": {
        "id": "JgHEx9derm5l",
        "colab_type": "code",
        "outputId": "ac593469-da55-451f-e849-0c729a0ac209",
        "colab": {
          "base_uri": "https://localhost:8080/",
          "height": 122
        }
      },
      "source": [
        "from google.colab import drive\n",
        "drive.mount('/detection')"
      ],
      "execution_count": 0,
      "outputs": [
        {
          "output_type": "stream",
          "text": [
            "Go to this URL in a browser: https://accounts.google.com/o/oauth2/auth?client_id=947318989803-6bn6qk8qdgf4n4g3pfee6491hc0brc4i.apps.googleusercontent.com&redirect_uri=urn%3Aietf%3Awg%3Aoauth%3A2.0%3Aoob&scope=email%20https%3A%2F%2Fwww.googleapis.com%2Fauth%2Fdocs.test%20https%3A%2F%2Fwww.googleapis.com%2Fauth%2Fdrive%20https%3A%2F%2Fwww.googleapis.com%2Fauth%2Fdrive.photos.readonly%20https%3A%2F%2Fwww.googleapis.com%2Fauth%2Fpeopleapi.readonly&response_type=code\n",
            "\n",
            "Enter your authorization code:\n",
            "··········\n",
            "Mounted at /detection\n"
          ],
          "name": "stdout"
        }
      ]
    },
    {
      "cell_type": "code",
      "metadata": {
        "id": "9uKI9fXZtFFV",
        "colab_type": "code",
        "outputId": "6b986800-66f5-4cbc-c124-becc32e73665",
        "colab": {
          "base_uri": "https://localhost:8080/",
          "height": 34
        }
      },
      "source": [
        "import tensorflow as tf\n",
        "device_name = tf.test.gpu_device_name()\n",
        "if device_name != '/device:GPU:0':\n",
        "  raise SystemError('GPU device not found')\n",
        "print('Found GPU at: {}'.format(device_name))"
      ],
      "execution_count": 0,
      "outputs": [
        {
          "output_type": "stream",
          "text": [
            "Found GPU at: /device:GPU:0\n"
          ],
          "name": "stdout"
        }
      ]
    },
    {
      "cell_type": "code",
      "metadata": {
        "id": "HsJWrWdJyWoa",
        "colab_type": "code",
        "outputId": "a0c7d10a-d3a4-4e0c-e43b-0dbce6a6ced0",
        "colab": {
          "base_uri": "https://localhost:8080/",
          "height": 85
        }
      },
      "source": [
        "!nvcc --version"
      ],
      "execution_count": 0,
      "outputs": [
        {
          "output_type": "stream",
          "text": [
            "nvcc: NVIDIA (R) Cuda compiler driver\n",
            "Copyright (c) 2005-2018 NVIDIA Corporation\n",
            "Built on Sat_Aug_25_21:08:01_CDT_2018\n",
            "Cuda compilation tools, release 10.0, V10.0.130\n"
          ],
          "name": "stdout"
        }
      ]
    },
    {
      "cell_type": "code",
      "metadata": {
        "id": "9rPfACrp1Qv0",
        "colab_type": "code",
        "outputId": "fe96ab49-795b-4b92-d1d8-8af1addf81ff",
        "colab": {
          "base_uri": "https://localhost:8080/",
          "height": 34
        }
      },
      "source": [
        "!cat /usr/local/cuda/include/cudnn.h | grep CUDNN_MAJOR -A 2\n"
      ],
      "execution_count": 0,
      "outputs": [
        {
          "output_type": "stream",
          "text": [
            "cat: /usr/local/cuda/include/cudnn.h: No such file or directory\n"
          ],
          "name": "stdout"
        }
      ]
    },
    {
      "cell_type": "code",
      "metadata": {
        "id": "1Hd555hqInbx",
        "colab_type": "code",
        "colab": {}
      },
      "source": [
        "!pip install -q keras"
      ],
      "execution_count": 0,
      "outputs": []
    },
    {
      "cell_type": "code",
      "metadata": {
        "id": "U7C42DuCI3qp",
        "colab_type": "code",
        "outputId": "d7a67bb8-7ab1-4f19-9f9c-e0a8cc55602c",
        "colab": {
          "base_uri": "https://localhost:8080/",
          "height": 34
        }
      },
      "source": [
        "import keras"
      ],
      "execution_count": 0,
      "outputs": [
        {
          "output_type": "stream",
          "text": [
            "Using TensorFlow backend.\n"
          ],
          "name": "stderr"
        }
      ]
    },
    {
      "cell_type": "code",
      "metadata": {
        "id": "VA56xx0ocGrl",
        "colab_type": "code",
        "colab": {}
      },
      "source": [
        "# not part of working module\n",
        "from keras.preprocessing.image import load_img\n",
        "from keras.preprocessing.image import img_to_array\n",
        "from matplotlib import pyplot as plt\n",
        "from PIL import Image\n",
        "# load an image from file\n",
        "image = load_img('/detection/My Drive/detection/input/after damage 1.jpg', target_size=(1024, 1024))\n",
        "img = np.asarray(Image.open('/detection/My Drive/detection/input/after damage 1.jpg'))\n",
        "print(img.shape)\n",
        "plt.imshow(image)\n",
        "plt.show()\n",
        "\n",
        "\n"
      ],
      "execution_count": 0,
      "outputs": []
    },
    {
      "cell_type": "code",
      "metadata": {
        "id": "hGVL0dN8Cjxk",
        "colab_type": "code",
        "outputId": "6779d9e6-78ef-46dd-fa21-8003835d75a8",
        "colab": {
          "base_uri": "https://localhost:8080/",
          "height": 102
        }
      },
      "source": [
        "!ls \"/detection/My Drive/detection/\""
      ],
      "execution_count": 0,
      "outputs": [
        {
          "output_type": "stream",
          "text": [
            "damaged_20\t  post_003_133.png  post_061_057.png  undamaged_200\n",
            "damaged_200\t  post_009_070.png  post_078_062.png  undamaged_50\n",
            "damaged_50\t  post_025_119.png  test1.png\n",
            "detection.ipynb   post_028_062.png  undamaged\n",
            "post_001_082.png  post_032_134.png  undamaged_20\n"
          ],
          "name": "stdout"
        }
      ]
    },
    {
      "cell_type": "code",
      "metadata": {
        "id": "OPmkHJrpEnNx",
        "colab_type": "code",
        "colab": {}
      },
      "source": [
        "# not part of working module\n",
        "import tensorflow as tf\n",
        "\n",
        "image=img_to_array(image)\n",
        "image2 = load_img('/detection/My Drive/detection/post_001_073.png', target_size=(1024, 1024))\n",
        "\n",
        "image2=img_to_array(image2)\n",
        "#print(image)\n"
      ],
      "execution_count": 0,
      "outputs": []
    },
    {
      "cell_type": "code",
      "metadata": {
        "id": "LNnw4wp8KELX",
        "colab_type": "code",
        "colab": {}
      },
      "source": [
        "import numpy as np\n",
        "import matplotlib.pyplot as plt\n",
        "import os\n",
        "import cv2\n",
        "datadir=\"/detection/My Drive/detection/\"\n",
        "categories=[\"damaged\", \"undamaged\"]\n",
        "for category in categories:\n",
        "  path=os.path.join(datadir,category)\n",
        "  for img in os.listdir(path):\n",
        "    img_array=cv2.imread(os.path.join(path,img))\n",
        "    #plt.imshow(img_array)\n",
        "    #plt.show()\n",
        "    break\n",
        "  break\n"
      ],
      "execution_count": 0,
      "outputs": []
    },
    {
      "cell_type": "code",
      "metadata": {
        "id": "Bnu1BAG8r_hS",
        "colab_type": "code",
        "colab": {}
      },
      "source": [
        "training_data=[]\n",
        "def create_training_data():\n",
        "  for category in categories:\n",
        "    path=os.path.join(datadir,category)\n",
        "    class_num=categories.index(category) # index as 0 and 1 to damaged and undamaged\n",
        "    for img in os.listdir(path):\n",
        "      img_array=cv2.imread(os.path.join(path,img), cv2.IMREAD_GRAYSCALE)\n",
        "      new_array= cv2.resize(img_array,(128,128))\n",
        "      training_data.append([img_array,class_num])\n",
        "      \n",
        "create_training_data()"
      ],
      "execution_count": 0,
      "outputs": []
    },
    {
      "cell_type": "code",
      "metadata": {
        "id": "2Rc4oQwp2rYP",
        "colab_type": "code",
        "outputId": "b9a496f2-7846-49bc-9526-022162cb8f37",
        "colab": {
          "base_uri": "https://localhost:8080/",
          "height": 34
        }
      },
      "source": [
        "print(len(training_data))\n",
        "import random\n",
        "random.shuffle(training_data)"
      ],
      "execution_count": 0,
      "outputs": [
        {
          "output_type": "stream",
          "text": [
            "268\n"
          ],
          "name": "stdout"
        }
      ]
    },
    {
      "cell_type": "code",
      "metadata": {
        "id": "eIUE5JwO4vlc",
        "colab_type": "code",
        "colab": {}
      },
      "source": [
        "\n",
        "for sample in training_data:\n",
        "  print(sample[1])\n",
        "  \n",
        "print(len(sample))"
      ],
      "execution_count": 0,
      "outputs": []
    },
    {
      "cell_type": "code",
      "metadata": {
        "id": "KFJ1yjmB5Kqn",
        "colab_type": "code",
        "outputId": "ae7037c8-83ff-4b14-8170-13b2a3005825",
        "colab": {
          "base_uri": "https://localhost:8080/",
          "height": 51
        }
      },
      "source": [
        "x=[]\n",
        "y=[]\n",
        "for features, label in training_data:\n",
        "  x.append(features)\n",
        "  y.append(label)\n",
        "x=np.array(x).reshape(-1,128,128,1)\n",
        "print(len(x))\n",
        "print(len(y))"
      ],
      "execution_count": 0,
      "outputs": [
        {
          "output_type": "stream",
          "text": [
            "268\n",
            "268\n"
          ],
          "name": "stdout"
        }
      ]
    },
    {
      "cell_type": "code",
      "metadata": {
        "id": "Mx4XdiOA8EB6",
        "colab_type": "code",
        "colab": {}
      },
      "source": [
        "import pickle\n",
        "pickle_out=open(\"x.pickle\",\"wb\")\n",
        "pickle.dump(x,pickle_out)\n",
        "pickle_out.close()\n",
        "\n",
        "pickle_out=open(\"y.pickle\",\"wb\")\n",
        "pickle.dump(y,pickle_out)\n",
        "pickle_out.close()"
      ],
      "execution_count": 0,
      "outputs": []
    },
    {
      "cell_type": "code",
      "metadata": {
        "id": "qvLf1Yo89Fz9",
        "colab_type": "code",
        "outputId": "d143ae98-4ade-455c-c381-9df9e5ed8a2b",
        "colab": {
          "base_uri": "https://localhost:8080/",
          "height": 34
        }
      },
      "source": [
        "# x[1] is feature and y[1] is label"
      ],
      "execution_count": 0,
      "outputs": [
        {
          "output_type": "execute_result",
          "data": {
            "text/plain": [
              "1"
            ]
          },
          "metadata": {
            "tags": []
          },
          "execution_count": 26
        }
      ]
    },
    {
      "cell_type": "code",
      "metadata": {
        "id": "UmPFmGLu-NeD",
        "colab_type": "code",
        "outputId": "80d58fa0-4eb6-46c4-e189-ed60052e9a73",
        "colab": {
          "base_uri": "https://localhost:8080/",
          "height": 1000
        }
      },
      "source": [
        "import tensorflow as tf\n",
        "from tensorflow.keras.models import Sequential\n",
        "from tensorflow.keras.layers import Dense, Dropout, Activation, Flatten, Conv2D, MaxPooling2D, BatchNormalization\n",
        "import pickle\n",
        "from keras.preprocessing.image import load_img\n",
        "import time\n",
        "#image = load_img('/detection/My Drive/detection/test1.png')\n",
        "\n",
        "x=pickle.load(open(\"x.pickle\",\"rb\"))\n",
        "y=pickle.load(open(\"y.pickle\",\"rb\"))\n",
        "x=x/255.0\n",
        "\n",
        "start = time.time()\n",
        "model = Sequential()\n",
        "\n",
        "\n",
        "model.add( Conv2D(64,(3,3), input_shape = x.shape[1:]))\n",
        "model.add(Activation(\"relu\"))\n",
        "model.add(MaxPooling2D(pool_size=(3,3)))\n",
        "model.add(Dropout(0.50))\n",
        "\n",
        "\n",
        "\n",
        "model.add( Conv2D(64,(3,3)))\n",
        "model.add(Activation(\"relu\"))\n",
        "model.add(MaxPooling2D(pool_size=(3,3)))  \n",
        "model.add(Dropout(0.50))\n",
        "\n",
        "\n",
        "model.add( Conv2D(64,(3,3)))\n",
        "model.add(Activation(\"relu\"))\n",
        "model.add(MaxPooling2D(pool_size=(3,3)))  \n",
        "model.add(Dropout(0.50))\n",
        "\n",
        "# added one more layer \n",
        "model.add( Conv2D(64,(3,3)))\n",
        "model.add(Activation(\"relu\"))\n",
        " \n",
        "\n",
        "\n",
        "\n",
        "\n",
        "model.add(Flatten())\n",
        "model.add(Dense(64))\n",
        "    \n",
        "\n",
        "\n",
        "model.add(Dense(1))  \n",
        "          \n",
        "model.add(Activation(\"sigmoid\"))\n",
        "#model.add(Activation(\"softmax\"))\n",
        "\n",
        "\n",
        "model.compile(loss=\"binary_crossentropy\", optimizer= \"adam\", metrics=['accuracy'])\n",
        "print (len(x))\n",
        "print (len(y))\n",
        "history=model.fit(x,y, batch_size=32, epochs=200, validation_split=0.2)  \n",
        "end = time.time()\n",
        "\n",
        "\n",
        "\n",
        "\n",
        "# list all data in history to plot accuracy\n",
        "print(history.history.keys())\n",
        "# summarize history for accuracy\n",
        "plt.plot(history.history['acc'])\n",
        "plt.plot(history.history['val_acc'])\n",
        "plt.title('model accuracy')\n",
        "plt.ylabel('accuracy')\n",
        "plt.xlabel('epoch')\n",
        "plt.legend(['train', 'test'], loc='upper left')\n",
        "plt.show()\n",
        "# summarize history for loss\n",
        "plt.plot(history.history['loss'])\n",
        "plt.plot(history.history['val_loss'])\n",
        "plt.title('model loss')\n",
        "plt.ylabel('loss')\n",
        "plt.xlabel('epoch')\n",
        "plt.legend(['train', 'test'], loc='upper left')\n",
        "plt.show()\n",
        "\n",
        "\n",
        "\n",
        "\n",
        "\n",
        "\n",
        "#print(model.predict(image))\n",
        "model.save('128CNN.h5')\n",
        "model.save_weights('128CNN_weights.h5')\n",
        "\n",
        "\n",
        "\n",
        "\n",
        "def prepare(filename):\n",
        "  img_array=cv2.imread(filename,cv2.IMREAD_GRAYSCALE)\n",
        "  new_array=cv2.resize(img_array,(128,128))\n",
        "  return new_array.reshape(-1,128,128,1)\n",
        "#model=tf.keras.models.load_model('128CNN.h5')\n",
        "#model.load_weights('128CNN_weights.h5')\n",
        "prediction=model.predict([prepare('/detection/My Drive/detection/post_009_070.png')])\n",
        "#print (categories[int(prediction[0][0])])\n",
        "print (categories[int(prediction[0])])\n",
        "print(prediction)\n",
        "print(end-start)\n",
        "        "
      ],
      "execution_count": 0,
      "outputs": [
        {
          "output_type": "stream",
          "text": [
            "268\n",
            "268\n",
            "Train on 214 samples, validate on 54 samples\n",
            "Epoch 1/200\n",
            "214/214 [==============================] - 1s 6ms/sample - loss: 0.7400 - acc: 0.5000 - val_loss: 0.6868 - val_acc: 0.5556\n",
            "Epoch 2/200\n",
            "214/214 [==============================] - 0s 926us/sample - loss: 0.6944 - acc: 0.5421 - val_loss: 0.7056 - val_acc: 0.4444\n",
            "Epoch 3/200\n",
            "214/214 [==============================] - 0s 778us/sample - loss: 0.6908 - acc: 0.5841 - val_loss: 0.6996 - val_acc: 0.4444\n",
            "Epoch 4/200\n",
            "214/214 [==============================] - 0s 744us/sample - loss: 0.6930 - acc: 0.5841 - val_loss: 0.6970 - val_acc: 0.4444\n",
            "Epoch 5/200\n",
            "214/214 [==============================] - 0s 733us/sample - loss: 0.6866 - acc: 0.5607 - val_loss: 0.7050 - val_acc: 0.4444\n",
            "Epoch 6/200\n",
            "214/214 [==============================] - 0s 730us/sample - loss: 0.6888 - acc: 0.5654 - val_loss: 0.7105 - val_acc: 0.4444\n",
            "Epoch 7/200\n",
            "214/214 [==============================] - 0s 740us/sample - loss: 0.6883 - acc: 0.5888 - val_loss: 0.7065 - val_acc: 0.4444\n",
            "Epoch 8/200\n",
            "214/214 [==============================] - 0s 721us/sample - loss: 0.6787 - acc: 0.6168 - val_loss: 0.7107 - val_acc: 0.4444\n",
            "Epoch 9/200\n",
            "214/214 [==============================] - 0s 736us/sample - loss: 0.6707 - acc: 0.5888 - val_loss: 0.7168 - val_acc: 0.4444\n",
            "Epoch 10/200\n",
            "214/214 [==============================] - 0s 735us/sample - loss: 0.6765 - acc: 0.5935 - val_loss: 0.7216 - val_acc: 0.4444\n",
            "Epoch 11/200\n",
            "214/214 [==============================] - 0s 789us/sample - loss: 0.6726 - acc: 0.6075 - val_loss: 0.7212 - val_acc: 0.4444\n",
            "Epoch 12/200\n",
            "214/214 [==============================] - 0s 773us/sample - loss: 0.6694 - acc: 0.6168 - val_loss: 0.7264 - val_acc: 0.4444\n",
            "Epoch 13/200\n",
            "214/214 [==============================] - 0s 747us/sample - loss: 0.6584 - acc: 0.6168 - val_loss: 0.7258 - val_acc: 0.4444\n",
            "Epoch 14/200\n",
            "214/214 [==============================] - 0s 736us/sample - loss: 0.6550 - acc: 0.6916 - val_loss: 0.7281 - val_acc: 0.4444\n",
            "Epoch 15/200\n",
            "214/214 [==============================] - 0s 743us/sample - loss: 0.6291 - acc: 0.7103 - val_loss: 0.6921 - val_acc: 0.4444\n",
            "Epoch 16/200\n",
            "214/214 [==============================] - 0s 746us/sample - loss: 0.6078 - acc: 0.6916 - val_loss: 0.6241 - val_acc: 0.4815\n",
            "Epoch 17/200\n",
            "214/214 [==============================] - 0s 751us/sample - loss: 0.5518 - acc: 0.7477 - val_loss: 0.5642 - val_acc: 0.7407\n",
            "Epoch 18/200\n",
            "214/214 [==============================] - 0s 739us/sample - loss: 0.5886 - acc: 0.6449 - val_loss: 0.5199 - val_acc: 0.8704\n",
            "Epoch 19/200\n",
            "214/214 [==============================] - 0s 765us/sample - loss: 0.5061 - acc: 0.7430 - val_loss: 0.6067 - val_acc: 0.4444\n",
            "Epoch 20/200\n",
            "214/214 [==============================] - 0s 736us/sample - loss: 0.4518 - acc: 0.8318 - val_loss: 0.5820 - val_acc: 0.5185\n",
            "Epoch 21/200\n",
            "214/214 [==============================] - 0s 734us/sample - loss: 0.3732 - acc: 0.8364 - val_loss: 0.4198 - val_acc: 0.8519\n",
            "Epoch 22/200\n",
            "214/214 [==============================] - 0s 726us/sample - loss: 0.4521 - acc: 0.7804 - val_loss: 0.4024 - val_acc: 0.8519\n",
            "Epoch 23/200\n",
            "214/214 [==============================] - 0s 718us/sample - loss: 0.3997 - acc: 0.8037 - val_loss: 0.4509 - val_acc: 0.8704\n",
            "Epoch 24/200\n",
            "214/214 [==============================] - 0s 725us/sample - loss: 0.4376 - acc: 0.7850 - val_loss: 0.6740 - val_acc: 0.4444\n",
            "Epoch 25/200\n",
            "214/214 [==============================] - 0s 751us/sample - loss: 0.4322 - acc: 0.7804 - val_loss: 0.4570 - val_acc: 0.8704\n",
            "Epoch 26/200\n",
            "214/214 [==============================] - 0s 728us/sample - loss: 0.3912 - acc: 0.7850 - val_loss: 0.4524 - val_acc: 0.8704\n",
            "Epoch 27/200\n",
            "214/214 [==============================] - 0s 746us/sample - loss: 0.3886 - acc: 0.8084 - val_loss: 0.5279 - val_acc: 0.7222\n",
            "Epoch 28/200\n",
            "214/214 [==============================] - 0s 768us/sample - loss: 0.3537 - acc: 0.8178 - val_loss: 0.4290 - val_acc: 0.9074\n",
            "Epoch 29/200\n",
            "214/214 [==============================] - 0s 728us/sample - loss: 0.2924 - acc: 0.8738 - val_loss: 0.3719 - val_acc: 0.8889\n",
            "Epoch 30/200\n",
            "214/214 [==============================] - 0s 726us/sample - loss: 0.2959 - acc: 0.8505 - val_loss: 0.2799 - val_acc: 0.9074\n",
            "Epoch 31/200\n",
            "214/214 [==============================] - 0s 729us/sample - loss: 0.3383 - acc: 0.8271 - val_loss: 0.3684 - val_acc: 0.9074\n",
            "Epoch 32/200\n",
            "214/214 [==============================] - 0s 741us/sample - loss: 0.2400 - acc: 0.9019 - val_loss: 0.3969 - val_acc: 0.8704\n",
            "Epoch 33/200\n",
            "214/214 [==============================] - 0s 736us/sample - loss: 0.2317 - acc: 0.9252 - val_loss: 0.5230 - val_acc: 0.6852\n",
            "Epoch 34/200\n",
            "214/214 [==============================] - 0s 756us/sample - loss: 0.2018 - acc: 0.9346 - val_loss: 0.5849 - val_acc: 0.6667\n",
            "Epoch 35/200\n",
            "214/214 [==============================] - 0s 736us/sample - loss: 0.2547 - acc: 0.9065 - val_loss: 0.2987 - val_acc: 0.9074\n",
            "Epoch 36/200\n",
            "214/214 [==============================] - 0s 743us/sample - loss: 0.2934 - acc: 0.8692 - val_loss: 0.3260 - val_acc: 0.9074\n",
            "Epoch 37/200\n",
            "214/214 [==============================] - 0s 737us/sample - loss: 0.3621 - acc: 0.8318 - val_loss: 0.5678 - val_acc: 0.6481\n",
            "Epoch 38/200\n",
            "214/214 [==============================] - 0s 753us/sample - loss: 0.2310 - acc: 0.8879 - val_loss: 0.4654 - val_acc: 0.7407\n",
            "Epoch 39/200\n",
            "214/214 [==============================] - 0s 729us/sample - loss: 0.2052 - acc: 0.9299 - val_loss: 0.3937 - val_acc: 0.8333\n",
            "Epoch 40/200\n",
            "214/214 [==============================] - 0s 733us/sample - loss: 0.1728 - acc: 0.9439 - val_loss: 0.5533 - val_acc: 0.7037\n",
            "Epoch 41/200\n",
            "214/214 [==============================] - 0s 738us/sample - loss: 0.1925 - acc: 0.9252 - val_loss: 0.7547 - val_acc: 0.6481\n",
            "Epoch 42/200\n",
            "214/214 [==============================] - 0s 734us/sample - loss: 0.2655 - acc: 0.8879 - val_loss: 0.6086 - val_acc: 0.6481\n",
            "Epoch 43/200\n",
            "214/214 [==============================] - 0s 739us/sample - loss: 0.1704 - acc: 0.9252 - val_loss: 0.2583 - val_acc: 0.8889\n",
            "Epoch 44/200\n",
            "214/214 [==============================] - 0s 782us/sample - loss: 0.2130 - acc: 0.9112 - val_loss: 0.2927 - val_acc: 0.8519\n",
            "Epoch 45/200\n",
            "214/214 [==============================] - 0s 746us/sample - loss: 0.1821 - acc: 0.9206 - val_loss: 0.2586 - val_acc: 0.8889\n",
            "Epoch 46/200\n",
            "214/214 [==============================] - 0s 742us/sample - loss: 0.1930 - acc: 0.9206 - val_loss: 0.2415 - val_acc: 0.8889\n",
            "Epoch 47/200\n",
            "214/214 [==============================] - 0s 738us/sample - loss: 0.1959 - acc: 0.9486 - val_loss: 0.3829 - val_acc: 0.8148\n",
            "Epoch 48/200\n",
            "214/214 [==============================] - 0s 739us/sample - loss: 0.1341 - acc: 0.9626 - val_loss: 0.4514 - val_acc: 0.7778\n",
            "Epoch 49/200\n",
            "214/214 [==============================] - 0s 723us/sample - loss: 0.1306 - acc: 0.9486 - val_loss: 0.3654 - val_acc: 0.8704\n",
            "Epoch 50/200\n",
            "214/214 [==============================] - 0s 738us/sample - loss: 0.1055 - acc: 0.9860 - val_loss: 0.2456 - val_acc: 0.8889\n",
            "Epoch 51/200\n",
            "214/214 [==============================] - 0s 732us/sample - loss: 0.1558 - acc: 0.9393 - val_loss: 0.2391 - val_acc: 0.9074\n",
            "Epoch 52/200\n",
            "214/214 [==============================] - 0s 727us/sample - loss: 0.1342 - acc: 0.9346 - val_loss: 0.3372 - val_acc: 0.8704\n",
            "Epoch 53/200\n",
            "214/214 [==============================] - 0s 746us/sample - loss: 0.1299 - acc: 0.9673 - val_loss: 0.3836 - val_acc: 0.8148\n",
            "Epoch 54/200\n",
            "214/214 [==============================] - 0s 729us/sample - loss: 0.1428 - acc: 0.9393 - val_loss: 0.2485 - val_acc: 0.9074\n",
            "Epoch 55/200\n",
            "214/214 [==============================] - 0s 726us/sample - loss: 0.1714 - acc: 0.9159 - val_loss: 0.3781 - val_acc: 0.8519\n",
            "Epoch 56/200\n",
            "214/214 [==============================] - 0s 726us/sample - loss: 0.1307 - acc: 0.9626 - val_loss: 0.3165 - val_acc: 0.8704\n",
            "Epoch 57/200\n",
            "214/214 [==============================] - 0s 774us/sample - loss: 0.1171 - acc: 0.9673 - val_loss: 0.4723 - val_acc: 0.7778\n",
            "Epoch 58/200\n",
            "214/214 [==============================] - 0s 733us/sample - loss: 0.0989 - acc: 0.9673 - val_loss: 0.3216 - val_acc: 0.8704\n",
            "Epoch 59/200\n",
            "214/214 [==============================] - 0s 735us/sample - loss: 0.0962 - acc: 0.9766 - val_loss: 0.4404 - val_acc: 0.7963\n",
            "Epoch 60/200\n",
            "214/214 [==============================] - 0s 787us/sample - loss: 0.0709 - acc: 0.9860 - val_loss: 0.3291 - val_acc: 0.8704\n",
            "Epoch 61/200\n",
            "214/214 [==============================] - 0s 769us/sample - loss: 0.1256 - acc: 0.9673 - val_loss: 0.4999 - val_acc: 0.7593\n",
            "Epoch 62/200\n",
            "214/214 [==============================] - 0s 744us/sample - loss: 0.2193 - acc: 0.9206 - val_loss: 0.2982 - val_acc: 0.8889\n",
            "Epoch 63/200\n",
            "214/214 [==============================] - 0s 738us/sample - loss: 0.2350 - acc: 0.9019 - val_loss: 0.3116 - val_acc: 0.8704\n",
            "Epoch 64/200\n",
            "214/214 [==============================] - 0s 727us/sample - loss: 0.1291 - acc: 0.9533 - val_loss: 0.5165 - val_acc: 0.7778\n",
            "Epoch 65/200\n",
            "214/214 [==============================] - 0s 737us/sample - loss: 0.1034 - acc: 0.9766 - val_loss: 0.4397 - val_acc: 0.7963\n",
            "Epoch 66/200\n",
            "214/214 [==============================] - 0s 723us/sample - loss: 0.1277 - acc: 0.9673 - val_loss: 0.2394 - val_acc: 0.8889\n",
            "Epoch 67/200\n",
            "214/214 [==============================] - 0s 728us/sample - loss: 0.1415 - acc: 0.9533 - val_loss: 0.2659 - val_acc: 0.8704\n",
            "Epoch 68/200\n",
            "214/214 [==============================] - 0s 744us/sample - loss: 0.0771 - acc: 0.9720 - val_loss: 0.3476 - val_acc: 0.8704\n",
            "Epoch 69/200\n",
            "214/214 [==============================] - 0s 757us/sample - loss: 0.0802 - acc: 0.9813 - val_loss: 0.3011 - val_acc: 0.8704\n",
            "Epoch 70/200\n",
            "214/214 [==============================] - 0s 744us/sample - loss: 0.0848 - acc: 0.9720 - val_loss: 0.3855 - val_acc: 0.8519\n",
            "Epoch 71/200\n",
            "214/214 [==============================] - 0s 733us/sample - loss: 0.1230 - acc: 0.9533 - val_loss: 0.6464 - val_acc: 0.7407\n",
            "Epoch 72/200\n",
            "214/214 [==============================] - 0s 732us/sample - loss: 0.1237 - acc: 0.9486 - val_loss: 0.5123 - val_acc: 0.7778\n",
            "Epoch 73/200\n",
            "214/214 [==============================] - 0s 729us/sample - loss: 0.0989 - acc: 0.9673 - val_loss: 0.4611 - val_acc: 0.8148\n",
            "Epoch 74/200\n",
            "214/214 [==============================] - 0s 724us/sample - loss: 0.0976 - acc: 0.9533 - val_loss: 0.4051 - val_acc: 0.8148\n",
            "Epoch 75/200\n",
            "214/214 [==============================] - 0s 751us/sample - loss: 0.0820 - acc: 0.9720 - val_loss: 0.3754 - val_acc: 0.8519\n",
            "Epoch 76/200\n",
            "214/214 [==============================] - 0s 773us/sample - loss: 0.0777 - acc: 0.9720 - val_loss: 0.2589 - val_acc: 0.8889\n",
            "Epoch 77/200\n",
            "214/214 [==============================] - 0s 778us/sample - loss: 0.1939 - acc: 0.9065 - val_loss: 0.2419 - val_acc: 0.8704\n",
            "Epoch 78/200\n",
            "214/214 [==============================] - 0s 733us/sample - loss: 0.0835 - acc: 0.9766 - val_loss: 0.3677 - val_acc: 0.8704\n",
            "Epoch 79/200\n",
            "214/214 [==============================] - 0s 731us/sample - loss: 0.0736 - acc: 0.9813 - val_loss: 0.3354 - val_acc: 0.8704\n",
            "Epoch 80/200\n",
            "214/214 [==============================] - 0s 741us/sample - loss: 0.1142 - acc: 0.9533 - val_loss: 0.3214 - val_acc: 0.8704\n",
            "Epoch 81/200\n",
            "214/214 [==============================] - 0s 734us/sample - loss: 0.0742 - acc: 0.9860 - val_loss: 0.2958 - val_acc: 0.8889\n",
            "Epoch 82/200\n",
            "214/214 [==============================] - 0s 750us/sample - loss: 0.0739 - acc: 0.9766 - val_loss: 0.4122 - val_acc: 0.8333\n",
            "Epoch 83/200\n",
            "214/214 [==============================] - 0s 731us/sample - loss: 0.1602 - acc: 0.9252 - val_loss: 0.8834 - val_acc: 0.6667\n",
            "Epoch 84/200\n",
            "214/214 [==============================] - 0s 754us/sample - loss: 0.1913 - acc: 0.9346 - val_loss: 0.6017 - val_acc: 0.7407\n",
            "Epoch 85/200\n",
            "214/214 [==============================] - 0s 737us/sample - loss: 0.1546 - acc: 0.9439 - val_loss: 0.2299 - val_acc: 0.8704\n",
            "Epoch 86/200\n",
            "214/214 [==============================] - 0s 743us/sample - loss: 0.1011 - acc: 0.9579 - val_loss: 0.2322 - val_acc: 0.8704\n",
            "Epoch 87/200\n",
            "214/214 [==============================] - 0s 745us/sample - loss: 0.0945 - acc: 0.9720 - val_loss: 0.3427 - val_acc: 0.8889\n",
            "Epoch 88/200\n",
            "214/214 [==============================] - 0s 748us/sample - loss: 0.0454 - acc: 0.9907 - val_loss: 0.2400 - val_acc: 0.8704\n",
            "Epoch 89/200\n",
            "214/214 [==============================] - 0s 725us/sample - loss: 0.0497 - acc: 0.9813 - val_loss: 0.3007 - val_acc: 0.8889\n",
            "Epoch 90/200\n",
            "214/214 [==============================] - 0s 736us/sample - loss: 0.0416 - acc: 0.9860 - val_loss: 0.2765 - val_acc: 0.8889\n",
            "Epoch 91/200\n",
            "214/214 [==============================] - 0s 728us/sample - loss: 0.0557 - acc: 0.9720 - val_loss: 0.3592 - val_acc: 0.8889\n",
            "Epoch 92/200\n",
            "214/214 [==============================] - 0s 765us/sample - loss: 0.0593 - acc: 0.9766 - val_loss: 0.4873 - val_acc: 0.8333\n",
            "Epoch 93/200\n",
            "214/214 [==============================] - 0s 772us/sample - loss: 0.1354 - acc: 0.9486 - val_loss: 0.4761 - val_acc: 0.8148\n",
            "Epoch 94/200\n",
            "214/214 [==============================] - 0s 741us/sample - loss: 0.0807 - acc: 0.9720 - val_loss: 0.2702 - val_acc: 0.8889\n",
            "Epoch 95/200\n",
            "214/214 [==============================] - 0s 729us/sample - loss: 0.0381 - acc: 0.9907 - val_loss: 0.3190 - val_acc: 0.8704\n",
            "Epoch 96/200\n",
            "214/214 [==============================] - 0s 731us/sample - loss: 0.0435 - acc: 0.9813 - val_loss: 0.3153 - val_acc: 0.8704\n",
            "Epoch 97/200\n",
            "214/214 [==============================] - 0s 742us/sample - loss: 0.0474 - acc: 0.9766 - val_loss: 0.3941 - val_acc: 0.8889\n",
            "Epoch 98/200\n",
            "214/214 [==============================] - 0s 729us/sample - loss: 0.0390 - acc: 0.9907 - val_loss: 0.3463 - val_acc: 0.8889\n",
            "Epoch 99/200\n",
            "214/214 [==============================] - 0s 725us/sample - loss: 0.0514 - acc: 0.9813 - val_loss: 0.3417 - val_acc: 0.8889\n",
            "Epoch 100/200\n",
            "214/214 [==============================] - 0s 753us/sample - loss: 0.0569 - acc: 0.9813 - val_loss: 0.3494 - val_acc: 0.8889\n",
            "Epoch 101/200\n",
            "214/214 [==============================] - 0s 746us/sample - loss: 0.0262 - acc: 0.9953 - val_loss: 0.3234 - val_acc: 0.8889\n",
            "Epoch 102/200\n",
            "214/214 [==============================] - 0s 739us/sample - loss: 0.0631 - acc: 0.9766 - val_loss: 0.3391 - val_acc: 0.8704\n",
            "Epoch 103/200\n",
            "214/214 [==============================] - 0s 729us/sample - loss: 0.0373 - acc: 0.9766 - val_loss: 0.3626 - val_acc: 0.8889\n",
            "Epoch 104/200\n",
            "214/214 [==============================] - 0s 724us/sample - loss: 0.0197 - acc: 1.0000 - val_loss: 0.3655 - val_acc: 0.8889\n",
            "Epoch 105/200\n",
            "214/214 [==============================] - 0s 734us/sample - loss: 0.0521 - acc: 0.9813 - val_loss: 0.4113 - val_acc: 0.8889\n",
            "Epoch 106/200\n",
            "214/214 [==============================] - 0s 749us/sample - loss: 0.0892 - acc: 0.9720 - val_loss: 0.5993 - val_acc: 0.8148\n",
            "Epoch 107/200\n",
            "214/214 [==============================] - 0s 757us/sample - loss: 0.0693 - acc: 0.9626 - val_loss: 0.4934 - val_acc: 0.8704\n",
            "Epoch 108/200\n",
            "214/214 [==============================] - 0s 734us/sample - loss: 0.0837 - acc: 0.9626 - val_loss: 0.3040 - val_acc: 0.8889\n",
            "Epoch 109/200\n",
            "214/214 [==============================] - 0s 737us/sample - loss: 0.1600 - acc: 0.9206 - val_loss: 0.3372 - val_acc: 0.8889\n",
            "Epoch 110/200\n",
            "214/214 [==============================] - 0s 734us/sample - loss: 0.1288 - acc: 0.9486 - val_loss: 0.2398 - val_acc: 0.8889\n",
            "Epoch 111/200\n",
            "214/214 [==============================] - 0s 727us/sample - loss: 0.0744 - acc: 0.9626 - val_loss: 0.2557 - val_acc: 0.8704\n",
            "Epoch 112/200\n",
            "214/214 [==============================] - 0s 726us/sample - loss: 0.0708 - acc: 0.9626 - val_loss: 0.4072 - val_acc: 0.8889\n",
            "Epoch 113/200\n",
            "214/214 [==============================] - 0s 736us/sample - loss: 0.0274 - acc: 1.0000 - val_loss: 0.2428 - val_acc: 0.9074\n",
            "Epoch 114/200\n",
            "214/214 [==============================] - 0s 733us/sample - loss: 0.0386 - acc: 0.9907 - val_loss: 0.3964 - val_acc: 0.8704\n",
            "Epoch 115/200\n",
            "214/214 [==============================] - 0s 759us/sample - loss: 0.0382 - acc: 0.9860 - val_loss: 0.2699 - val_acc: 0.8704\n",
            "Epoch 116/200\n",
            "214/214 [==============================] - 0s 729us/sample - loss: 0.0363 - acc: 0.9860 - val_loss: 0.2961 - val_acc: 0.8889\n",
            "Epoch 117/200\n",
            "214/214 [==============================] - 0s 749us/sample - loss: 0.0238 - acc: 1.0000 - val_loss: 0.2957 - val_acc: 0.8704\n",
            "Epoch 118/200\n",
            "214/214 [==============================] - 0s 741us/sample - loss: 0.0183 - acc: 1.0000 - val_loss: 0.3561 - val_acc: 0.8889\n",
            "Epoch 119/200\n",
            "214/214 [==============================] - 0s 790us/sample - loss: 0.0174 - acc: 0.9953 - val_loss: 0.3017 - val_acc: 0.8889\n",
            "Epoch 120/200\n",
            "214/214 [==============================] - 0s 767us/sample - loss: 0.0151 - acc: 0.9953 - val_loss: 0.3428 - val_acc: 0.8889\n",
            "Epoch 121/200\n",
            "214/214 [==============================] - 0s 724us/sample - loss: 0.0166 - acc: 0.9953 - val_loss: 0.4208 - val_acc: 0.8889\n",
            "Epoch 122/200\n",
            "214/214 [==============================] - 0s 742us/sample - loss: 0.0116 - acc: 0.9953 - val_loss: 0.3717 - val_acc: 0.8889\n",
            "Epoch 123/200\n",
            "214/214 [==============================] - 0s 726us/sample - loss: 0.0181 - acc: 0.9953 - val_loss: 0.5835 - val_acc: 0.8519\n",
            "Epoch 124/200\n",
            "214/214 [==============================] - 0s 732us/sample - loss: 0.0585 - acc: 0.9860 - val_loss: 1.0692 - val_acc: 0.7222\n",
            "Epoch 125/200\n",
            "214/214 [==============================] - 0s 750us/sample - loss: 0.1611 - acc: 0.9393 - val_loss: 0.6910 - val_acc: 0.7963\n",
            "Epoch 126/200\n",
            "214/214 [==============================] - 0s 746us/sample - loss: 0.1389 - acc: 0.9393 - val_loss: 0.2595 - val_acc: 0.8704\n",
            "Epoch 127/200\n",
            "214/214 [==============================] - 0s 731us/sample - loss: 0.1630 - acc: 0.9486 - val_loss: 0.2295 - val_acc: 0.8704\n",
            "Epoch 128/200\n",
            "214/214 [==============================] - 0s 730us/sample - loss: 0.0701 - acc: 0.9673 - val_loss: 0.4036 - val_acc: 0.8704\n",
            "Epoch 129/200\n",
            "214/214 [==============================] - 0s 736us/sample - loss: 0.0345 - acc: 0.9907 - val_loss: 0.2253 - val_acc: 0.8704\n",
            "Epoch 130/200\n",
            "214/214 [==============================] - 0s 728us/sample - loss: 0.0359 - acc: 0.9860 - val_loss: 0.3074 - val_acc: 0.9074\n",
            "Epoch 131/200\n",
            "214/214 [==============================] - 0s 725us/sample - loss: 0.0232 - acc: 0.9953 - val_loss: 0.2495 - val_acc: 0.8704\n",
            "Epoch 132/200\n",
            "214/214 [==============================] - 0s 761us/sample - loss: 0.0230 - acc: 0.9953 - val_loss: 0.2824 - val_acc: 0.8889\n",
            "Epoch 133/200\n",
            "214/214 [==============================] - 0s 745us/sample - loss: 0.0126 - acc: 1.0000 - val_loss: 0.2979 - val_acc: 0.8704\n",
            "Epoch 134/200\n",
            "214/214 [==============================] - 0s 738us/sample - loss: 0.0162 - acc: 0.9953 - val_loss: 0.3133 - val_acc: 0.8889\n",
            "Epoch 135/200\n",
            "214/214 [==============================] - 0s 763us/sample - loss: 0.0062 - acc: 1.0000 - val_loss: 0.3369 - val_acc: 0.8889\n",
            "Epoch 136/200\n",
            "214/214 [==============================] - 0s 764us/sample - loss: 0.0422 - acc: 0.9813 - val_loss: 0.4108 - val_acc: 0.8889\n",
            "Epoch 137/200\n",
            "214/214 [==============================] - 0s 737us/sample - loss: 0.0177 - acc: 0.9907 - val_loss: 0.2751 - val_acc: 0.8889\n",
            "Epoch 138/200\n",
            "214/214 [==============================] - 0s 758us/sample - loss: 0.0150 - acc: 0.9953 - val_loss: 0.4231 - val_acc: 0.8889\n",
            "Epoch 139/200\n",
            "214/214 [==============================] - 0s 737us/sample - loss: 0.0239 - acc: 0.9907 - val_loss: 0.2964 - val_acc: 0.8704\n",
            "Epoch 140/200\n",
            "214/214 [==============================] - 0s 732us/sample - loss: 0.0280 - acc: 0.9907 - val_loss: 0.3781 - val_acc: 0.8889\n",
            "Epoch 141/200\n",
            "214/214 [==============================] - 0s 748us/sample - loss: 0.0113 - acc: 1.0000 - val_loss: 0.3275 - val_acc: 0.8889\n",
            "Epoch 142/200\n",
            "214/214 [==============================] - 0s 746us/sample - loss: 0.0102 - acc: 0.9953 - val_loss: 0.3717 - val_acc: 0.8889\n",
            "Epoch 143/200\n",
            "214/214 [==============================] - 0s 728us/sample - loss: 0.0107 - acc: 0.9953 - val_loss: 0.3437 - val_acc: 0.8889\n",
            "Epoch 144/200\n",
            "214/214 [==============================] - 0s 776us/sample - loss: 0.0108 - acc: 0.9953 - val_loss: 0.3465 - val_acc: 0.8889\n",
            "Epoch 145/200\n",
            "214/214 [==============================] - 0s 797us/sample - loss: 0.0137 - acc: 1.0000 - val_loss: 0.4972 - val_acc: 0.8889\n",
            "Epoch 146/200\n",
            "214/214 [==============================] - 0s 746us/sample - loss: 0.0133 - acc: 0.9953 - val_loss: 0.3315 - val_acc: 0.8889\n",
            "Epoch 147/200\n",
            "214/214 [==============================] - 0s 731us/sample - loss: 0.0199 - acc: 0.9907 - val_loss: 0.3898 - val_acc: 0.8889\n",
            "Epoch 148/200\n",
            "214/214 [==============================] - 0s 734us/sample - loss: 0.0088 - acc: 0.9953 - val_loss: 0.3853 - val_acc: 0.8889\n",
            "Epoch 149/200\n",
            "214/214 [==============================] - 0s 736us/sample - loss: 0.0050 - acc: 1.0000 - val_loss: 0.3620 - val_acc: 0.8889\n",
            "Epoch 150/200\n",
            "214/214 [==============================] - 0s 748us/sample - loss: 0.0117 - acc: 0.9953 - val_loss: 0.5032 - val_acc: 0.8889\n",
            "Epoch 151/200\n",
            "214/214 [==============================] - 0s 762us/sample - loss: 0.0051 - acc: 1.0000 - val_loss: 0.3343 - val_acc: 0.8889\n",
            "Epoch 152/200\n",
            "214/214 [==============================] - 0s 766us/sample - loss: 0.0400 - acc: 0.9907 - val_loss: 0.3878 - val_acc: 0.8889\n",
            "Epoch 153/200\n",
            "214/214 [==============================] - 0s 730us/sample - loss: 0.0105 - acc: 1.0000 - val_loss: 0.4366 - val_acc: 0.8889\n",
            "Epoch 154/200\n",
            "214/214 [==============================] - 0s 738us/sample - loss: 0.0051 - acc: 1.0000 - val_loss: 0.3951 - val_acc: 0.9074\n",
            "Epoch 155/200\n",
            "214/214 [==============================] - 0s 734us/sample - loss: 0.0093 - acc: 1.0000 - val_loss: 0.4244 - val_acc: 0.8889\n",
            "Epoch 156/200\n",
            "214/214 [==============================] - 0s 784us/sample - loss: 0.0016 - acc: 1.0000 - val_loss: 0.4197 - val_acc: 0.9074\n",
            "Epoch 157/200\n",
            "214/214 [==============================] - 0s 759us/sample - loss: 0.0032 - acc: 1.0000 - val_loss: 0.4433 - val_acc: 0.8889\n",
            "Epoch 158/200\n",
            "214/214 [==============================] - 0s 754us/sample - loss: 0.0058 - acc: 1.0000 - val_loss: 0.4533 - val_acc: 0.8889\n",
            "Epoch 159/200\n",
            "214/214 [==============================] - 0s 738us/sample - loss: 0.0017 - acc: 1.0000 - val_loss: 0.4034 - val_acc: 0.8889\n",
            "Epoch 160/200\n",
            "214/214 [==============================] - 0s 728us/sample - loss: 0.0042 - acc: 1.0000 - val_loss: 0.5402 - val_acc: 0.8889\n",
            "Epoch 161/200\n",
            "214/214 [==============================] - 0s 727us/sample - loss: 0.0113 - acc: 0.9907 - val_loss: 0.3911 - val_acc: 0.8889\n",
            "Epoch 162/200\n",
            "214/214 [==============================] - 0s 728us/sample - loss: 0.0097 - acc: 1.0000 - val_loss: 0.5615 - val_acc: 0.8889\n",
            "Epoch 163/200\n",
            "214/214 [==============================] - 0s 755us/sample - loss: 0.0227 - acc: 0.9953 - val_loss: 0.3670 - val_acc: 0.8889\n",
            "Epoch 164/200\n",
            "214/214 [==============================] - 0s 745us/sample - loss: 0.0299 - acc: 0.9907 - val_loss: 0.5108 - val_acc: 0.8889\n",
            "Epoch 165/200\n",
            "214/214 [==============================] - 0s 721us/sample - loss: 0.0081 - acc: 0.9953 - val_loss: 0.4069 - val_acc: 0.8889\n",
            "Epoch 166/200\n",
            "214/214 [==============================] - 0s 727us/sample - loss: 0.0038 - acc: 1.0000 - val_loss: 0.4417 - val_acc: 0.8889\n",
            "Epoch 167/200\n",
            "214/214 [==============================] - 0s 751us/sample - loss: 0.0054 - acc: 1.0000 - val_loss: 0.4792 - val_acc: 0.8889\n",
            "Epoch 168/200\n",
            "214/214 [==============================] - 0s 760us/sample - loss: 0.0018 - acc: 1.0000 - val_loss: 0.4220 - val_acc: 0.8889\n",
            "Epoch 169/200\n",
            "214/214 [==============================] - 0s 777us/sample - loss: 0.0026 - acc: 1.0000 - val_loss: 0.4930 - val_acc: 0.8889\n",
            "Epoch 170/200\n",
            "214/214 [==============================] - 0s 735us/sample - loss: 0.0038 - acc: 1.0000 - val_loss: 0.5207 - val_acc: 0.8889\n",
            "Epoch 171/200\n",
            "214/214 [==============================] - 0s 732us/sample - loss: 0.0135 - acc: 0.9953 - val_loss: 0.4757 - val_acc: 0.9074\n",
            "Epoch 172/200\n",
            "214/214 [==============================] - 0s 725us/sample - loss: 0.4164 - acc: 0.9159 - val_loss: 0.2845 - val_acc: 0.8704\n",
            "Epoch 173/200\n",
            "214/214 [==============================] - 0s 734us/sample - loss: 0.5325 - acc: 0.8598 - val_loss: 0.2724 - val_acc: 0.8519\n",
            "Epoch 174/200\n",
            "214/214 [==============================] - 0s 726us/sample - loss: 0.3531 - acc: 0.8364 - val_loss: 0.5381 - val_acc: 0.7037\n",
            "Epoch 175/200\n",
            "214/214 [==============================] - 0s 746us/sample - loss: 0.2271 - acc: 0.9299 - val_loss: 0.2458 - val_acc: 0.8704\n",
            "Epoch 176/200\n",
            "214/214 [==============================] - 0s 743us/sample - loss: 0.1551 - acc: 0.9626 - val_loss: 0.4354 - val_acc: 0.7963\n",
            "Epoch 177/200\n",
            "214/214 [==============================] - 0s 729us/sample - loss: 0.0801 - acc: 0.9766 - val_loss: 0.1880 - val_acc: 0.8889\n",
            "Epoch 178/200\n",
            "214/214 [==============================] - 0s 731us/sample - loss: 0.0533 - acc: 0.9907 - val_loss: 0.3037 - val_acc: 0.9074\n",
            "Epoch 179/200\n",
            "214/214 [==============================] - 0s 734us/sample - loss: 0.0524 - acc: 0.9907 - val_loss: 0.2195 - val_acc: 0.8889\n",
            "Epoch 180/200\n",
            "214/214 [==============================] - 0s 726us/sample - loss: 0.0509 - acc: 0.9813 - val_loss: 0.2762 - val_acc: 0.9074\n",
            "Epoch 181/200\n",
            "214/214 [==============================] - 0s 758us/sample - loss: 0.0269 - acc: 0.9953 - val_loss: 0.2736 - val_acc: 0.9074\n",
            "Epoch 182/200\n",
            "214/214 [==============================] - 0s 739us/sample - loss: 0.0271 - acc: 0.9907 - val_loss: 0.2525 - val_acc: 0.8704\n",
            "Epoch 183/200\n",
            "214/214 [==============================] - 0s 745us/sample - loss: 0.0319 - acc: 0.9953 - val_loss: 0.3687 - val_acc: 0.9074\n",
            "Epoch 184/200\n",
            "214/214 [==============================] - 0s 760us/sample - loss: 0.0120 - acc: 1.0000 - val_loss: 0.2730 - val_acc: 0.8704\n",
            "Epoch 185/200\n",
            "214/214 [==============================] - 0s 745us/sample - loss: 0.0163 - acc: 0.9953 - val_loss: 0.2707 - val_acc: 0.8704\n",
            "Epoch 186/200\n",
            "214/214 [==============================] - 0s 732us/sample - loss: 0.0109 - acc: 0.9953 - val_loss: 0.3638 - val_acc: 0.8889\n",
            "Epoch 187/200\n",
            "214/214 [==============================] - 0s 728us/sample - loss: 0.0159 - acc: 1.0000 - val_loss: 0.3396 - val_acc: 0.8889\n",
            "Epoch 188/200\n",
            "214/214 [==============================] - 0s 751us/sample - loss: 0.0315 - acc: 0.9907 - val_loss: 0.3981 - val_acc: 0.8889\n",
            "Epoch 189/200\n",
            "214/214 [==============================] - 0s 734us/sample - loss: 0.0436 - acc: 0.9813 - val_loss: 0.2712 - val_acc: 0.8889\n",
            "Epoch 190/200\n",
            "214/214 [==============================] - 0s 736us/sample - loss: 0.0621 - acc: 0.9766 - val_loss: 0.5306 - val_acc: 0.8889\n",
            "Epoch 191/200\n",
            "214/214 [==============================] - 0s 721us/sample - loss: 0.0596 - acc: 0.9766 - val_loss: 0.2860 - val_acc: 0.8889\n",
            "Epoch 192/200\n",
            "214/214 [==============================] - 0s 764us/sample - loss: 0.0180 - acc: 0.9953 - val_loss: 0.3975 - val_acc: 0.9074\n",
            "Epoch 193/200\n",
            "214/214 [==============================] - 0s 725us/sample - loss: 0.0113 - acc: 1.0000 - val_loss: 0.3259 - val_acc: 0.8889\n",
            "Epoch 194/200\n",
            "214/214 [==============================] - 0s 745us/sample - loss: 0.0174 - acc: 1.0000 - val_loss: 0.3677 - val_acc: 0.8889\n",
            "Epoch 195/200\n",
            "214/214 [==============================] - 0s 727us/sample - loss: 0.0082 - acc: 1.0000 - val_loss: 0.3533 - val_acc: 0.8704\n",
            "Epoch 196/200\n",
            "214/214 [==============================] - 0s 736us/sample - loss: 0.0076 - acc: 1.0000 - val_loss: 0.3491 - val_acc: 0.8704\n",
            "Epoch 197/200\n",
            "214/214 [==============================] - 0s 728us/sample - loss: 0.0054 - acc: 1.0000 - val_loss: 0.3637 - val_acc: 0.8704\n",
            "Epoch 198/200\n",
            "214/214 [==============================] - 0s 727us/sample - loss: 0.0059 - acc: 1.0000 - val_loss: 0.3912 - val_acc: 0.8889\n",
            "Epoch 199/200\n",
            "214/214 [==============================] - 0s 715us/sample - loss: 0.0166 - acc: 0.9907 - val_loss: 0.4216 - val_acc: 0.8889\n",
            "Epoch 200/200\n",
            "214/214 [==============================] - 0s 808us/sample - loss: 0.0137 - acc: 0.9953 - val_loss: 0.4017 - val_acc: 0.8889\n",
            "dict_keys(['loss', 'acc', 'val_loss', 'val_acc'])\n"
          ],
          "name": "stdout"
        },
        {
          "output_type": "display_data",
          "data": {
            "image/png": "[encoded data removed]",
            "text/plain": [
              "<Figure size 432x288 with 1 Axes>"
            ]
          },
          "metadata": {
            "tags": []
          }
        },
        {
          "output_type": "display_data",
          "data": {
            "image/png": "[encoded data removed]",
            "text/plain": [
              "<Figure size 432x288 with 1 Axes>"
            ]
          },
          "metadata": {
            "tags": []
          }
        },
        {
          "output_type": "stream",
          "text": [
            "damaged\n",
            "[[0.]]\n",
            "36.32619571685791\n"
          ],
          "name": "stdout"
        }
      ]
    },
    {
      "cell_type": "code",
      "metadata": {
        "id": "PQCNyMdyI6WJ",
        "colab_type": "code",
        "outputId": "ddeae7b3-4acc-4a62-9b95-9e7e4732d09d",
        "colab": {
          "base_uri": "https://localhost:8080/",
          "height": 34
        }
      },
      "source": [
        "#categories=[\"damaged\",\"undamaged\"] Testing code\n",
        "def prepare(filename):\n",
        "  img_array=cv2.imread(filename,cv2.IMREAD_GRAYSCALE)\n",
        "  new_array=cv2.resize(img_array,(128,128))\n",
        "  return new_array.reshape(-1,128,128,1)\n",
        "model=tf.keras.models.load_model('128CNN.h5')\n",
        "model.load_weights('128CNN_weights.h5')\n",
        "\n",
        "prediction=model.predict([prepare('/detection/My Drive/detection/post_061_057.png')])\n",
        "#print (categories[int(prediction[0][0])])\n",
        "print(prediction)"
      ],
      "execution_count": 0,
      "outputs": [
        {
          "output_type": "stream",
          "text": [
            "[[0.]]\n"
          ],
          "name": "stdout"
        }
      ]
    }
  ]
}